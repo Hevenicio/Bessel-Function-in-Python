{
 "cells": [
  {
   "cell_type": "markdown",
   "metadata": {},
   "source": [
    "# Função de Bessel de primeira espécie J$_\\nu$(x) em Python\n",
    "A equação de Bessel de índice $\\nu$ é a EDO,\n",
    "\n",
    "<p>$$\\normalsize \\\\(1)\\ \\hspace{15pt} x^2y''+xy'+(x^2-\\nu^2)y=0$$\n",
    "<p>onde $\\nu$ é um número real e,</p> \n",
    "   $$y = J_\\nu(x)$$\n",
    "    \n",
    "<p>Cuja a solução é dada pela expressão,</p>\n",
    "\n",
    "<p>$$(2)\\ \\hspace{15pt} J_\\nu(x)={\\large\\displaystyle \\sum_{\\small k=0}^{\\small\\infty}\\frac{(-1)^k}{k!\\Gamma(k+\\nu+1)}\\left ( \\frac{x}{2} \\right)^{\\nu+2k}}\\\\$$</p>\n",
    "\n",
    "<p>Esta função é chamada de função de Bessel de 1 $ ^{\\underline{\\rm a}}$ espécie de índice $\\nu$ e denotada por $ J_\\nu(x)$.</p>\n",
    "\n",
    "<p>Em particular,</p>\n",
    "\n",
    "<p>$\\ J_0(x)={\\large\\displaystyle \\sum_{\\small k=0}^{\\small\\infty}\\frac{(-1)^k}{(k!)^{2}}\\left ( \\frac{x}{2} \\right)^{2k}}, \\hspace{20pt}\n",
    "J_1(x) = {\\large\\displaystyle \\sum_{\\small k=0}^{\\small\\infty}\\frac{(-1)^k}{k!(k + 1)!}\\left ( \\frac{x}{2} \\right)^{2k + 1}}, \\hspace{20pt}\n",
    "J_2(x) = {\\large\\displaystyle \\sum_{\\small k=0}^{\\small\\infty}\\frac{(-1)^k}{k!(k + 2)!}\\left ( \\frac{x}{2} \\right)^{2k + 2}}, \\hspace{20pt} etc.$</p>"
   ]
  },
  {
   "cell_type": "markdown",
   "metadata": {},
   "source": [
    "## Importação de biblitecas"
   ]
  },
  {
   "cell_type": "code",
   "execution_count": 344,
   "metadata": {},
   "outputs": [],
   "source": [
    "from IPython.display import display, Markdown, Latex\n",
    "import matplotlib.pyplot as plt\n",
    "import pandas as pd\n",
    "import sympy as sym\n",
    "import numpy as np"
   ]
  },
  {
   "cell_type": "code",
   "execution_count": 345,
   "metadata": {},
   "outputs": [],
   "source": [
    "%matplotlib inline\n",
    "%config InlineBackend.rc={'figure.figsize': (12, 7)}"
   ]
  },
  {
   "cell_type": "markdown",
   "metadata": {},
   "source": [
    "## Entrada de dados"
   ]
  },
  {
   "cell_type": "code",
   "execution_count": 346,
   "metadata": {},
   "outputs": [],
   "source": [
    "dados = pd.read_csv(\"dados.csv\")\n",
    "df = pd.DataFrame(dados)"
   ]
  },
  {
   "cell_type": "code",
   "execution_count": 347,
   "metadata": {},
   "outputs": [
    {
     "data": {
      "text/html": [
       "<div>\n",
       "<style scoped>\n",
       "    .dataframe tbody tr th:only-of-type {\n",
       "        vertical-align: middle;\n",
       "    }\n",
       "\n",
       "    .dataframe tbody tr th {\n",
       "        vertical-align: top;\n",
       "    }\n",
       "\n",
       "    .dataframe thead th {\n",
       "        text-align: right;\n",
       "    }\n",
       "</style>\n",
       "<table border=\"1\" class=\"dataframe\">\n",
       "  <thead>\n",
       "    <tr style=\"text-align: right;\">\n",
       "      <th></th>\n",
       "      <th>0</th>\n",
       "      <th>1</th>\n",
       "      <th>2</th>\n",
       "      <th>3</th>\n",
       "      <th>4</th>\n",
       "      <th>5</th>\n",
       "      <th>6</th>\n",
       "      <th>7</th>\n",
       "      <th>8</th>\n",
       "      <th>9</th>\n",
       "      <th>...</th>\n",
       "      <th>51</th>\n",
       "      <th>52</th>\n",
       "      <th>53</th>\n",
       "      <th>54</th>\n",
       "      <th>55</th>\n",
       "      <th>56</th>\n",
       "      <th>57</th>\n",
       "      <th>58</th>\n",
       "      <th>59</th>\n",
       "      <th>60</th>\n",
       "    </tr>\n",
       "  </thead>\n",
       "  <tbody>\n",
       "    <tr>\n",
       "      <th>entrada</th>\n",
       "      <td>0.0</td>\n",
       "      <td>0.5</td>\n",
       "      <td>1.0</td>\n",
       "      <td>1.5</td>\n",
       "      <td>2.0</td>\n",
       "      <td>2.5</td>\n",
       "      <td>3.0</td>\n",
       "      <td>3.5</td>\n",
       "      <td>4.0</td>\n",
       "      <td>4.5</td>\n",
       "      <td>...</td>\n",
       "      <td>25.5</td>\n",
       "      <td>26.0</td>\n",
       "      <td>26.5</td>\n",
       "      <td>27.0</td>\n",
       "      <td>27.5</td>\n",
       "      <td>28.0</td>\n",
       "      <td>28.5</td>\n",
       "      <td>29.0</td>\n",
       "      <td>29.5</td>\n",
       "      <td>30.0</td>\n",
       "    </tr>\n",
       "  </tbody>\n",
       "</table>\n",
       "<p>1 rows × 61 columns</p>\n",
       "</div>"
      ],
      "text/plain": [
       "          0    1    2    3    4    5    6    7    8    9   ...    51    52  \\\n",
       "entrada  0.0  0.5  1.0  1.5  2.0  2.5  3.0  3.5  4.0  4.5  ...  25.5  26.0   \n",
       "\n",
       "           53    54    55    56    57    58    59    60  \n",
       "entrada  26.5  27.0  27.5  28.0  28.5  29.0  29.5  30.0  \n",
       "\n",
       "[1 rows x 61 columns]"
      ]
     },
     "execution_count": 347,
     "metadata": {},
     "output_type": "execute_result"
    }
   ],
   "source": [
    "df.T"
   ]
  },
  {
   "cell_type": "markdown",
   "metadata": {},
   "source": [
    "## Função Fatorial"
   ]
  },
  {
   "cell_type": "code",
   "execution_count": 348,
   "metadata": {},
   "outputs": [],
   "source": [
    "def fatorial(n):\n",
    "    if(n == 0):\n",
    "        return 1\n",
    "    else:\n",
    "        return n*fatorial(n - 1)"
   ]
  },
  {
   "cell_type": "markdown",
   "metadata": {},
   "source": [
    "## Formatação dos dados impressos - Latex"
   ]
  },
  {
   "cell_type": "code",
   "execution_count": 349,
   "metadata": {},
   "outputs": [],
   "source": [
    "def printmd(string):\n",
    "    display(Markdown(string))\n",
    "    #display(Latex(string))\n",
    "\n",
    "f = sym.symbols('$_{0}$')\n",
    "g = sym.symbols('$_{1}$')\n",
    "h = sym.symbols('$_{2}$')"
   ]
  },
  {
   "cell_type": "markdown",
   "metadata": {},
   "source": [
    "## Definindo as Funções de Bessel - J$_0$(x), J$_1$(x) e J$_2$(x)"
   ]
  },
  {
   "cell_type": "code",
   "execution_count": 350,
   "metadata": {},
   "outputs": [],
   "source": [
    "def J0(x):\n",
    "    k = 0\n",
    "    soma = 0\n",
    "    termo = 1\n",
    "    while(1.0e-4 <= termo):\n",
    "        termo = pow(x/2, (2*k))/(fatorial(k)*fatorial(k))\n",
    "        soma += pow(-1, k)*termo\n",
    "        k += 1\n",
    "    return soma"
   ]
  },
  {
   "cell_type": "code",
   "execution_count": 351,
   "metadata": {},
   "outputs": [],
   "source": [
    "def J1(x):\n",
    "    k = 0\n",
    "    soma = 0\n",
    "    termo = 1\n",
    "    while(1.0e-4 <= termo):\n",
    "        termo = pow(x/2, (2*k + 1))/(fatorial(k)*fatorial(k + 1))\n",
    "        soma += pow(-1, k)*termo\n",
    "        k += 1\n",
    "    return soma"
   ]
  },
  {
   "cell_type": "code",
   "execution_count": 352,
   "metadata": {},
   "outputs": [],
   "source": [
    "def J2(x):\n",
    "    k = 0\n",
    "    soma = 0\n",
    "    termo = 1\n",
    "    while(1.0e-4 <= termo):\n",
    "        termo = pow(x/2, (2*k + 2))/(fatorial(k)*fatorial(k + 2))\n",
    "        soma += pow(-1, k)*termo\n",
    "        k += 1\n",
    "    return soma"
   ]
  },
  {
   "cell_type": "markdown",
   "metadata": {},
   "source": [
    "## Amplitude da função de Bessel"
   ]
  },
  {
   "cell_type": "code",
   "execution_count": 353,
   "metadata": {},
   "outputs": [],
   "source": [
    "y = np.sqrt(2/(np.pi*df['entrada']))"
   ]
  },
  {
   "cell_type": "code",
   "execution_count": 354,
   "metadata": {},
   "outputs": [],
   "source": [
    "z = -np.sqrt(2/(np.pi*df['entrada']))"
   ]
  },
  {
   "cell_type": "markdown",
   "metadata": {},
   "source": [
    "## Resultados obtidos"
   ]
  },
  {
   "cell_type": "code",
   "execution_count": 355,
   "metadata": {},
   "outputs": [
    {
     "data": {
      "text/markdown": [
       "**$J$$_{0}$(0.0):   1.00000 $|$ $J$$_{1}$(0.0):   0.00000 $|$ $J$$_{2}$(0.0):   0.00000**"
      ],
      "text/plain": [
       "<IPython.core.display.Markdown object>"
      ]
     },
     "metadata": {},
     "output_type": "display_data"
    },
    {
     "data": {
      "text/markdown": [
       "**$J$$_{0}$(0.5):   0.93847 $|$ $J$$_{1}$(0.5):   0.24227 $|$ $J$$_{2}$(0.5):   0.03060**"
      ],
      "text/plain": [
       "<IPython.core.display.Markdown object>"
      ]
     },
     "metadata": {},
     "output_type": "display_data"
    },
    {
     "data": {
      "text/markdown": [
       "**$J$$_{0}$(1.0):   0.76520 $|$ $J$$_{1}$(1.0):   0.44005 $|$ $J$$_{2}$(1.0):   0.11490**"
      ],
      "text/plain": [
       "<IPython.core.display.Markdown object>"
      ]
     },
     "metadata": {},
     "output_type": "display_data"
    },
    {
     "data": {
      "text/markdown": [
       "**$J$$_{0}$(1.5):   0.51183 $|$ $J$$_{1}$(1.5):   0.55794 $|$ $J$$_{2}$(1.5):   0.23209**"
      ],
      "text/plain": [
       "<IPython.core.display.Markdown object>"
      ]
     },
     "metadata": {},
     "output_type": "display_data"
    },
    {
     "data": {
      "text/markdown": [
       "**$J$$_{0}$(2.0):   0.22389 $|$ $J$$_{1}$(2.0):   0.57672 $|$ $J$$_{2}$(2.0):   0.35284**"
      ],
      "text/plain": [
       "<IPython.core.display.Markdown object>"
      ]
     },
     "metadata": {},
     "output_type": "display_data"
    },
    {
     "data": {
      "text/markdown": [
       "**$J$$_{0}$(2.5):  -0.04838 $|$ $J$$_{1}$(2.5):   0.49709 $|$ $J$$_{2}$(2.5):   0.44606**"
      ],
      "text/plain": [
       "<IPython.core.display.Markdown object>"
      ]
     },
     "metadata": {},
     "output_type": "display_data"
    },
    {
     "data": {
      "text/markdown": [
       "**$J$$_{0}$(3.0):  -0.26005 $|$ $J$$_{1}$(3.0):   0.33906 $|$ $J$$_{2}$(3.0):   0.48609**"
      ],
      "text/plain": [
       "<IPython.core.display.Markdown object>"
      ]
     },
     "metadata": {},
     "output_type": "display_data"
    },
    {
     "data": {
      "text/markdown": [
       "**$J$$_{0}$(3.5):  -0.38013 $|$ $J$$_{1}$(3.5):   0.13738 $|$ $J$$_{2}$(3.5):   0.45863**"
      ],
      "text/plain": [
       "<IPython.core.display.Markdown object>"
      ]
     },
     "metadata": {},
     "output_type": "display_data"
    },
    {
     "data": {
      "text/markdown": [
       "**$J$$_{0}$(4.0):  -0.39715 $|$ $J$$_{1}$(4.0):  -0.06604 $|$ $J$$_{2}$(4.0):   0.36413**"
      ],
      "text/plain": [
       "<IPython.core.display.Markdown object>"
      ]
     },
     "metadata": {},
     "output_type": "display_data"
    },
    {
     "data": {
      "text/markdown": [
       "**$J$$_{0}$(4.5):  -0.32054 $|$ $J$$_{1}$(4.5):  -0.23106 $|$ $J$$_{2}$(4.5):   0.21785**"
      ],
      "text/plain": [
       "<IPython.core.display.Markdown object>"
      ]
     },
     "metadata": {},
     "output_type": "display_data"
    },
    {
     "data": {
      "text/markdown": [
       "**$J$$_{0}$(5.0):  -0.17760 $|$ $J$$_{1}$(5.0):  -0.32758 $|$ $J$$_{2}$(5.0):   0.04657**"
      ],
      "text/plain": [
       "<IPython.core.display.Markdown object>"
      ]
     },
     "metadata": {},
     "output_type": "display_data"
    },
    {
     "data": {
      "text/markdown": [
       "**$J$$_{0}$(5.5):  -0.00684 $|$ $J$$_{1}$(5.5):  -0.34144 $|$ $J$$_{2}$(5.5):  -0.11732**"
      ],
      "text/plain": [
       "<IPython.core.display.Markdown object>"
      ]
     },
     "metadata": {},
     "output_type": "display_data"
    },
    {
     "data": {
      "text/markdown": [
       "**$J$$_{0}$(6.0):   0.15064 $|$ $J$$_{1}$(6.0):  -0.27668 $|$ $J$$_{2}$(6.0):  -0.24287**"
      ],
      "text/plain": [
       "<IPython.core.display.Markdown object>"
      ]
     },
     "metadata": {},
     "output_type": "display_data"
    },
    {
     "data": {
      "text/markdown": [
       "**$J$$_{0}$(6.5):   0.26010 $|$ $J$$_{1}$(6.5):  -0.15384 $|$ $J$$_{2}$(6.5):  -0.30743**"
      ],
      "text/plain": [
       "<IPython.core.display.Markdown object>"
      ]
     },
     "metadata": {},
     "output_type": "display_data"
    },
    {
     "data": {
      "text/markdown": [
       "**$J$$_{0}$(7.0):   0.30008 $|$ $J$$_{1}$(7.0):  -0.00468 $|$ $J$$_{2}$(7.0):  -0.30142**"
      ],
      "text/plain": [
       "<IPython.core.display.Markdown object>"
      ]
     },
     "metadata": {},
     "output_type": "display_data"
    },
    {
     "data": {
      "text/markdown": [
       "**$J$$_{0}$(7.5):   0.26634 $|$ $J$$_{1}$(7.5):   0.13525 $|$ $J$$_{2}$(7.5):  -0.23027**"
      ],
      "text/plain": [
       "<IPython.core.display.Markdown object>"
      ]
     },
     "metadata": {},
     "output_type": "display_data"
    },
    {
     "data": {
      "text/markdown": [
       "**$J$$_{0}$(8.0):   0.17165 $|$ $J$$_{1}$(8.0):   0.23463 $|$ $J$$_{2}$(8.0):  -0.11299**"
      ],
      "text/plain": [
       "<IPython.core.display.Markdown object>"
      ]
     },
     "metadata": {},
     "output_type": "display_data"
    },
    {
     "data": {
      "text/markdown": [
       "**$J$$_{0}$(8.5):   0.04194 $|$ $J$$_{1}$(8.5):   0.27312 $|$ $J$$_{2}$(8.5):   0.02232**"
      ],
      "text/plain": [
       "<IPython.core.display.Markdown object>"
      ]
     },
     "metadata": {},
     "output_type": "display_data"
    },
    {
     "data": {
      "text/markdown": [
       "**$J$$_{0}$(9.0):  -0.09034 $|$ $J$$_{1}$(9.0):   0.24532 $|$ $J$$_{2}$(9.0):   0.14485**"
      ],
      "text/plain": [
       "<IPython.core.display.Markdown object>"
      ]
     },
     "metadata": {},
     "output_type": "display_data"
    },
    {
     "data": {
      "text/markdown": [
       "**$J$$_{0}$(9.5):  -0.19393 $|$ $J$$_{1}$(9.5):   0.16126 $|$ $J$$_{2}$(9.5):   0.22788**"
      ],
      "text/plain": [
       "<IPython.core.display.Markdown object>"
      ]
     },
     "metadata": {},
     "output_type": "display_data"
    },
    {
     "data": {
      "text/markdown": [
       "**$J$$_{0}$(10.0):  -0.24593 $|$ $J$$_{1}$(10.0):   0.04347 $|$ $J$$_{2}$(10.0):   0.25463**"
      ],
      "text/plain": [
       "<IPython.core.display.Markdown object>"
      ]
     },
     "metadata": {},
     "output_type": "display_data"
    },
    {
     "data": {
      "text/markdown": [
       "**$J$$_{0}$(10.5):  -0.23665 $|$ $J$$_{1}$(10.5):  -0.07884 $|$ $J$$_{2}$(10.5):   0.22163**"
      ],
      "text/plain": [
       "<IPython.core.display.Markdown object>"
      ]
     },
     "metadata": {},
     "output_type": "display_data"
    },
    {
     "data": {
      "text/markdown": [
       "**$J$$_{0}$(11.0):  -0.17119 $|$ $J$$_{1}$(11.0):  -0.17679 $|$ $J$$_{2}$(11.0):   0.13905**"
      ],
      "text/plain": [
       "<IPython.core.display.Markdown object>"
      ]
     },
     "metadata": {},
     "output_type": "display_data"
    },
    {
     "data": {
      "text/markdown": [
       "**$J$$_{0}$(11.5):  -0.06765 $|$ $J$$_{1}$(11.5):  -0.22838 $|$ $J$$_{2}$(11.5):   0.02793**"
      ],
      "text/plain": [
       "<IPython.core.display.Markdown object>"
      ]
     },
     "metadata": {},
     "output_type": "display_data"
    },
    {
     "data": {
      "text/markdown": [
       "**$J$$_{0}$(12.0):   0.04769 $|$ $J$$_{1}$(12.0):  -0.22344 $|$ $J$$_{2}$(12.0):  -0.08493**"
      ],
      "text/plain": [
       "<IPython.core.display.Markdown object>"
      ]
     },
     "metadata": {},
     "output_type": "display_data"
    },
    {
     "data": {
      "text/markdown": [
       "**$J$$_{0}$(12.5):   0.14689 $|$ $J$$_{1}$(12.5):  -0.16549 $|$ $J$$_{2}$(12.5):  -0.17336**"
      ],
      "text/plain": [
       "<IPython.core.display.Markdown object>"
      ]
     },
     "metadata": {},
     "output_type": "display_data"
    },
    {
     "data": {
      "text/markdown": [
       "**$J$$_{0}$(13.0):   0.20693 $|$ $J$$_{1}$(13.0):  -0.07032 $|$ $J$$_{2}$(13.0):  -0.21775**"
      ],
      "text/plain": [
       "<IPython.core.display.Markdown object>"
      ]
     },
     "metadata": {},
     "output_type": "display_data"
    },
    {
     "data": {
      "text/markdown": [
       "**$J$$_{0}$(13.5):   0.21499 $|$ $J$$_{1}$(13.5):   0.03806 $|$ $J$$_{2}$(13.5):  -0.20935**"
      ],
      "text/plain": [
       "<IPython.core.display.Markdown object>"
      ]
     },
     "metadata": {},
     "output_type": "display_data"
    },
    {
     "data": {
      "text/markdown": [
       "**$J$$_{0}$(14.0):   0.17107 $|$ $J$$_{1}$(14.0):   0.13337 $|$ $J$$_{2}$(14.0):  -0.15202**"
      ],
      "text/plain": [
       "<IPython.core.display.Markdown object>"
      ]
     },
     "metadata": {},
     "output_type": "display_data"
    },
    {
     "data": {
      "text/markdown": [
       "**$J$$_{0}$(14.5):   0.08755 $|$ $J$$_{1}$(14.5):   0.19343 $|$ $J$$_{2}$(14.5):  -0.06087**"
      ],
      "text/plain": [
       "<IPython.core.display.Markdown object>"
      ]
     },
     "metadata": {},
     "output_type": "display_data"
    },
    {
     "data": {
      "text/markdown": [
       "**$J$$_{0}$(15.0):  -0.01423 $|$ $J$$_{1}$(15.0):   0.20511 $|$ $J$$_{2}$(15.0):   0.04157**"
      ],
      "text/plain": [
       "<IPython.core.display.Markdown object>"
      ]
     },
     "metadata": {},
     "output_type": "display_data"
    },
    {
     "data": {
      "text/markdown": [
       "**$J$$_{0}$(15.5):  -0.10923 $|$ $J$$_{1}$(15.5):   0.16721 $|$ $J$$_{2}$(15.5):   0.13081**"
      ],
      "text/plain": [
       "<IPython.core.display.Markdown object>"
      ]
     },
     "metadata": {},
     "output_type": "display_data"
    },
    {
     "data": {
      "text/markdown": [
       "**$J$$_{0}$(16.0):  -0.17489 $|$ $J$$_{1}$(16.0):   0.09040 $|$ $J$$_{2}$(16.0):   0.18619**"
      ],
      "text/plain": [
       "<IPython.core.display.Markdown object>"
      ]
     },
     "metadata": {},
     "output_type": "display_data"
    },
    {
     "data": {
      "text/markdown": [
       "**$J$$_{0}$(16.5):  -0.19638 $|$ $J$$_{1}$(16.5):  -0.00576 $|$ $J$$_{2}$(16.5):   0.19568**"
      ],
      "text/plain": [
       "<IPython.core.display.Markdown object>"
      ]
     },
     "metadata": {},
     "output_type": "display_data"
    },
    {
     "data": {
      "text/markdown": [
       "**$J$$_{0}$(17.0):  -0.16985 $|$ $J$$_{1}$(17.0):  -0.09767 $|$ $J$$_{2}$(17.0):   0.15836**"
      ],
      "text/plain": [
       "<IPython.core.display.Markdown object>"
      ]
     },
     "metadata": {},
     "output_type": "display_data"
    },
    {
     "data": {
      "text/markdown": [
       "**$J$$_{0}$(17.5):  -0.10310 $|$ $J$$_{1}$(17.5):  -0.16342 $|$ $J$$_{2}$(17.5):   0.08443**"
      ],
      "text/plain": [
       "<IPython.core.display.Markdown object>"
      ]
     },
     "metadata": {},
     "output_type": "display_data"
    },
    {
     "data": {
      "text/markdown": [
       "**$J$$_{0}$(18.0):  -0.01336 $|$ $J$$_{1}$(18.0):  -0.18799 $|$ $J$$_{2}$(18.0):  -0.00753**"
      ],
      "text/plain": [
       "<IPython.core.display.Markdown object>"
      ]
     },
     "metadata": {},
     "output_type": "display_data"
    },
    {
     "data": {
      "text/markdown": [
       "**$J$$_{0}$(18.5):   0.07717 $|$ $J$$_{1}$(18.5):  -0.16664 $|$ $J$$_{2}$(18.5):  -0.09518**"
      ],
      "text/plain": [
       "<IPython.core.display.Markdown object>"
      ]
     },
     "metadata": {},
     "output_type": "display_data"
    },
    {
     "data": {
      "text/markdown": [
       "**$J$$_{0}$(19.0):   0.14664 $|$ $J$$_{1}$(19.0):  -0.10570 $|$ $J$$_{2}$(19.0):  -0.15776**"
      ],
      "text/plain": [
       "<IPython.core.display.Markdown object>"
      ]
     },
     "metadata": {},
     "output_type": "display_data"
    },
    {
     "data": {
      "text/markdown": [
       "**$J$$_{0}$(19.5):   0.17885 $|$ $J$$_{1}$(19.5):  -0.02087 $|$ $J$$_{2}$(19.5):  -0.18099**"
      ],
      "text/plain": [
       "<IPython.core.display.Markdown object>"
      ]
     },
     "metadata": {},
     "output_type": "display_data"
    },
    {
     "data": {
      "text/markdown": [
       "**$J$$_{0}$(20.0):   0.16703 $|$ $J$$_{1}$(20.0):   0.06683 $|$ $J$$_{2}$(20.0):  -0.16034**"
      ],
      "text/plain": [
       "<IPython.core.display.Markdown object>"
      ]
     },
     "metadata": {},
     "output_type": "display_data"
    },
    {
     "data": {
      "text/markdown": [
       "**$J$$_{0}$(20.5):   0.11510 $|$ $J$$_{1}$(20.5):   0.13626 $|$ $J$$_{2}$(20.5):  -0.10181**"
      ],
      "text/plain": [
       "<IPython.core.display.Markdown object>"
      ]
     },
     "metadata": {},
     "output_type": "display_data"
    },
    {
     "data": {
      "text/markdown": [
       "**$J$$_{0}$(21.0):   0.03658 $|$ $J$$_{1}$(21.0):   0.17113 $|$ $J$$_{2}$(21.0):  -0.02028**"
      ],
      "text/plain": [
       "<IPython.core.display.Markdown object>"
      ]
     },
     "metadata": {},
     "output_type": "display_data"
    },
    {
     "data": {
      "text/markdown": [
       "**$J$$_{0}$(21.5):  -0.04894 $|$ $J$$_{1}$(21.5):   0.16385 $|$ $J$$_{2}$(21.5):   0.06418**"
      ],
      "text/plain": [
       "<IPython.core.display.Markdown object>"
      ]
     },
     "metadata": {},
     "output_type": "display_data"
    },
    {
     "data": {
      "text/markdown": [
       "**$J$$_{0}$(22.0):  -0.12065 $|$ $J$$_{1}$(22.0):   0.11718 $|$ $J$$_{2}$(22.0):   0.13130**"
      ],
      "text/plain": [
       "<IPython.core.display.Markdown object>"
      ]
     },
     "metadata": {},
     "output_type": "display_data"
    },
    {
     "data": {
      "text/markdown": [
       "**$J$$_{0}$(22.5):  -0.16154 $|$ $J$$_{1}$(22.5):   0.04325 $|$ $J$$_{2}$(22.5):   0.16539**"
      ],
      "text/plain": [
       "<IPython.core.display.Markdown object>"
      ]
     },
     "metadata": {},
     "output_type": "display_data"
    },
    {
     "data": {
      "text/markdown": [
       "**$J$$_{0}$(23.0):  -0.16241 $|$ $J$$_{1}$(23.0):  -0.03952 $|$ $J$$_{2}$(23.0):   0.15897**"
      ],
      "text/plain": [
       "<IPython.core.display.Markdown object>"
      ]
     },
     "metadata": {},
     "output_type": "display_data"
    },
    {
     "data": {
      "text/markdown": [
       "**$J$$_{0}$(23.5):  -0.12392 $|$ $J$$_{1}$(23.5):  -0.11094 $|$ $J$$_{2}$(23.5):   0.11448**"
      ],
      "text/plain": [
       "<IPython.core.display.Markdown object>"
      ]
     },
     "metadata": {},
     "output_type": "display_data"
    },
    {
     "data": {
      "text/markdown": [
       "**$J$$_{0}$(24.0):  -0.05623 $|$ $J$$_{1}$(24.0):  -0.15403 $|$ $J$$_{2}$(24.0):   0.04340**"
      ],
      "text/plain": [
       "<IPython.core.display.Markdown object>"
      ]
     },
     "metadata": {},
     "output_type": "display_data"
    },
    {
     "data": {
      "text/markdown": [
       "**$J$$_{0}$(24.5):   0.02370 $|$ $J$$_{1}$(24.5):  -0.15898 $|$ $J$$_{2}$(24.5):  -0.03668**"
      ],
      "text/plain": [
       "<IPython.core.display.Markdown object>"
      ]
     },
     "metadata": {},
     "output_type": "display_data"
    },
    {
     "data": {
      "text/markdown": [
       "**$J$$_{0}$(25.0):   0.09627 $|$ $J$$_{1}$(25.0):  -0.12535 $|$ $J$$_{2}$(25.0):  -0.10630**"
      ],
      "text/plain": [
       "<IPython.core.display.Markdown object>"
      ]
     },
     "metadata": {},
     "output_type": "display_data"
    },
    {
     "data": {
      "text/markdown": [
       "**$J$$_{0}$(25.5):   0.14406 $|$ $J$$_{1}$(25.5):  -0.06204 $|$ $J$$_{2}$(25.5):  -0.14893**"
      ],
      "text/plain": [
       "<IPython.core.display.Markdown object>"
      ]
     },
     "metadata": {},
     "output_type": "display_data"
    },
    {
     "data": {
      "text/markdown": [
       "**$J$$_{0}$(26.0):   0.15600 $|$ $J$$_{1}$(26.0):   0.01504 $|$ $J$$_{2}$(26.0):  -0.15484**"
      ],
      "text/plain": [
       "<IPython.core.display.Markdown object>"
      ]
     },
     "metadata": {},
     "output_type": "display_data"
    },
    {
     "data": {
      "text/markdown": [
       "**$J$$_{0}$(26.5):   0.12988 $|$ $J$$_{1}$(26.5):   0.08703 $|$ $J$$_{2}$(26.5):  -0.12332**"
      ],
      "text/plain": [
       "<IPython.core.display.Markdown object>"
      ]
     },
     "metadata": {},
     "output_type": "display_data"
    },
    {
     "data": {
      "text/markdown": [
       "**$J$$_{0}$(27.0):   0.07274 $|$ $J$$_{1}$(27.0):   0.13658 $|$ $J$$_{2}$(27.0):  -0.06262**"
      ],
      "text/plain": [
       "<IPython.core.display.Markdown object>"
      ]
     },
     "metadata": {},
     "output_type": "display_data"
    },
    {
     "data": {
      "text/markdown": [
       "**$J$$_{0}$(27.5):  -0.00099 $|$ $J$$_{1}$(27.5):   0.15213 $|$ $J$$_{2}$(27.5):   0.01205**"
      ],
      "text/plain": [
       "<IPython.core.display.Markdown object>"
      ]
     },
     "metadata": {},
     "output_type": "display_data"
    },
    {
     "data": {
      "text/markdown": [
       "**$J$$_{0}$(28.0):  -0.07315 $|$ $J$$_{1}$(28.0):   0.13055 $|$ $J$$_{2}$(28.0):   0.08248**"
      ],
      "text/plain": [
       "<IPython.core.display.Markdown object>"
      ]
     },
     "metadata": {},
     "output_type": "display_data"
    },
    {
     "data": {
      "text/markdown": [
       "**$J$$_{0}$(28.5):  -0.12630 $|$ $J$$_{1}$(28.5):   0.07770 $|$ $J$$_{2}$(28.5):   0.13175**"
      ],
      "text/plain": [
       "<IPython.core.display.Markdown object>"
      ]
     },
     "metadata": {},
     "output_type": "display_data"
    },
    {
     "data": {
      "text/markdown": [
       "**$J$$_{0}$(29.0):  -0.14784 $|$ $J$$_{1}$(29.0):   0.00694 $|$ $J$$_{2}$(29.0):   0.14833**"
      ],
      "text/plain": [
       "<IPython.core.display.Markdown object>"
      ]
     },
     "metadata": {},
     "output_type": "display_data"
    },
    {
     "data": {
      "text/markdown": [
       "**$J$$_{0}$(29.5):  -0.13314 $|$ $J$$_{1}$(29.5):  -0.06432 $|$ $J$$_{2}$(29.5):   0.12878**"
      ],
      "text/plain": [
       "<IPython.core.display.Markdown object>"
      ]
     },
     "metadata": {},
     "output_type": "display_data"
    },
    {
     "data": {
      "text/markdown": [
       "**$J$$_{0}$(30.0):  -0.08636 $|$ $J$$_{1}$(30.0):  -0.11876 $|$ $J$$_{2}$(30.0):   0.07843**"
      ],
      "text/plain": [
       "<IPython.core.display.Markdown object>"
      ]
     },
     "metadata": {},
     "output_type": "display_data"
    }
   ],
   "source": [
    "l =[]\n",
    "m = []\n",
    "n = []\n",
    "for i in df['entrada']:\n",
    "    l.append(J0(i))\n",
    "    m.append(J1(i))\n",
    "    n.append(J2(i))\n",
    "    printmd('**$J${}({}):  {: 0.5f} $|$ $J${}({}):  {: 0.5f} $|$ $J${}({}):  {: 0.5f}**'.format(f, i, J0(i), g, i, J1(i), h, i, J2(i)))"
   ]
  },
  {
   "cell_type": "markdown",
   "metadata": {},
   "source": [
    "## Plotando os resultados obtidos"
   ]
  },
  {
   "cell_type": "code",
   "execution_count": 357,
   "metadata": {
    "scrolled": false
   },
   "outputs": [
    {
     "data": {
      "image/png": "[encoded data removed]",
      "text/plain": [
       "<Figure size 800x550 with 1 Axes>"
      ]
     },
     "metadata": {},
     "output_type": "display_data"
    }
   ],
   "source": [
    "plt.title('Funções de Bessel - J$_{0}(x)$, J$_{1}(x)$ e J$_{2}(x)$')\n",
    "plt.plot(df['entrada'], l, 'g', label = 'J$_{0}(x)$')\n",
    "plt.plot(df['entrada'], m, 'limegreen', label = 'J$_{1}(x)$')\n",
    "plt.plot(df['entrada'], n, 'lawngreen', label = 'J$_{2}(x)$')\n",
    "plt.plot(df['entrada'], y, 'c--', label = '$\\sqrt{2 / \\pi x}$')\n",
    "plt.plot(df['entrada'], z, 'b--', label = '$ - \\sqrt{2 / \\pi x}$')\n",
    "plt.legend(framealpha=1, frameon=True)\n",
    "plt.grid(color = 'black')\n",
    "plt.style.use('seaborn')\n",
    "plt.xlabel('$x$')\n",
    "plt.ylabel('$y$')\n",
    "plt.show()"
   ]
  },
  {
   "cell_type": "code",
   "execution_count": null,
   "metadata": {},
   "outputs": [],
   "source": []
  }
 ],
 "metadata": {
  "kernelspec": {
   "display_name": "Python 3",
   "language": "python",
   "name": "python3"
  },
  "language_info": {
   "codemirror_mode": {
    "name": "ipython",
    "version": 3
   },
   "file_extension": ".py",
   "mimetype": "text/x-python",
   "name": "python",
   "nbconvert_exporter": "python",
   "pygments_lexer": "ipython3",
   "version": "3.7.3"
  }
 },
 "nbformat": 4,
 "nbformat_minor": 2
}
